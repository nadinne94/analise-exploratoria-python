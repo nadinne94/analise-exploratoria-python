{
 "cells": [
  {
   "cell_type": "markdown",
   "id": "f59bc4c0",
   "metadata": {},
   "source": [
    "## Análise Exploratória de Dados em Linguagem Python Para a Área de Varejo"
   ]
  },
  {
   "cell_type": "code",
   "execution_count": null,
   "id": "38e71619",
   "metadata": {},
   "outputs": [],
   "source": [
    "# Versão da Linguagem Python\n",
    "from platform import python_version\n",
    "print('Versão da Linguagem Python Usada Neste Jupyter Notebook:', python_version())"
   ]
  },
  {
   "cell_type": "code",
   "execution_count": null,
   "id": "79e7b41e",
   "metadata": {},
   "outputs": [],
   "source": [
    "# Imports\n",
    "import numpy as np\n",
    "import pandas as pd\n",
    "import matplotlib.pyplot as plt\n",
    "import seaborn as sns\n",
    "import datetime as dt"
   ]
  },
  {
   "cell_type": "markdown",
   "id": "f04896ca",
   "metadata": {},
   "source": [
    "## Carregando os dados"
   ]
  },
  {
   "cell_type": "code",
   "execution_count": null,
   "id": "5fb74216",
   "metadata": {},
   "outputs": [],
   "source": [
    "# Carregando o dataset através da função 'read_csv()' do  Pandas\n",
    "\n",
    "dados = pd.read_csv('dados/dataset.csv')"
   ]
  },
  {
   "cell_type": "code",
   "execution_count": null,
   "id": "0ab337e5",
   "metadata": {},
   "outputs": [],
   "source": [
    "# Verificando a dimensão dos dados\n",
    "\n",
    "dados.shape\n"
   ]
  },
  {
   "cell_type": "markdown",
   "id": "b2474b35",
   "metadata": {},
   "source": [
    "9700 linhas e 11 colunas"
   ]
  },
  {
   "cell_type": "code",
   "execution_count": null,
   "id": "1213650b",
   "metadata": {},
   "outputs": [],
   "source": [
    "# Amostra das 5 primeiras linhas da tabela\n",
    "\n",
    "dados.head()"
   ]
  },
  {
   "cell_type": "code",
   "execution_count": null,
   "id": "557725f9",
   "metadata": {},
   "outputs": [],
   "source": [
    "# Amostra das 5 últimas linhas da tabela\n",
    "\n",
    "dados.tail()"
   ]
  },
  {
   "cell_type": "markdown",
   "id": "e6e4079c",
   "metadata": {},
   "source": [
    "## Análise Exploratória"
   ]
  },
  {
   "cell_type": "code",
   "execution_count": null,
   "id": "608daf78",
   "metadata": {},
   "outputs": [],
   "source": [
    "# Verificando as colunas do conjuto de dados\n",
    "\n",
    "dados.columns"
   ]
  },
  {
   "cell_type": "code",
   "execution_count": null,
   "id": "2994a419",
   "metadata": {},
   "outputs": [],
   "source": [
    "# Verificando o tipo de dado de cada coluna\n",
    "\n",
    "dados.dtypes"
   ]
  },
  {
   "cell_type": "code",
   "execution_count": null,
   "id": "60beb20c",
   "metadata": {},
   "outputs": [],
   "source": [
    "# Resuo estatístico da coluna com o valor de venda\n",
    "\n",
    "dados['Valor_Venda'].describe()"
   ]
  },
  {
   "cell_type": "code",
   "execution_count": null,
   "id": "d5027320",
   "metadata": {},
   "outputs": [],
   "source": [
    "# Verificando dados duplicados\n",
    "\n",
    "dados[dados.duplicated()]"
   ]
  },
  {
   "cell_type": "code",
   "execution_count": null,
   "id": "1ea22bc9",
   "metadata": {},
   "outputs": [],
   "source": [
    "# Verificando se há valores ausentes\n",
    "\n",
    "dados.isnull().sum()"
   ]
  },
  {
   "cell_type": "markdown",
   "id": "0dbecc40",
   "metadata": {},
   "source": [
    "## Perguntas de Negócio"
   ]
  },
  {
   "cell_type": "markdown",
   "id": "a277ea49",
   "metadata": {},
   "source": [
    "### 1. Qual a cidade com maior Valor de Venda de produtos da categoria 'Office Supplies'?"
   ]
  },
  {
   "cell_type": "code",
   "execution_count": null,
   "id": "291da06b",
   "metadata": {},
   "outputs": [],
   "source": [
    "# filtrando os dados pela categoria\n",
    "dados_p1 = dados[dados['Categoria'] == 'Office Supplies']"
   ]
  },
  {
   "cell_type": "code",
   "execution_count": null,
   "id": "928c0cbc",
   "metadata": {},
   "outputs": [],
   "source": [
    "# soma do total de vendas agrupado por cidade\n",
    "dados_p1_total = dados_p1.groupby('Cidade')['Valor_Venda'].sum()"
   ]
  },
  {
   "cell_type": "code",
   "execution_count": null,
   "id": "69809cbb",
   "metadata": {},
   "outputs": [],
   "source": [
    "# selecionando a cidade com maior valor de venda através da função 'idxmax()'\n",
    "maior_venda = dados_p1_total.idxmax()\n",
    "print(\"Cidade com maior valor de venda para 'Office Supplies':\", maior_venda)"
   ]
  },
  {
   "cell_type": "code",
   "execution_count": null,
   "id": "a7ddca90",
   "metadata": {},
   "outputs": [],
   "source": [
    "# Conferindo o resultado, consultando a soma do valor_vendas de cada cidade - descendente\n",
    "\n",
    "dados_p1_total.sort_values(ascending = False)"
   ]
  },
  {
   "cell_type": "markdown",
   "id": "3ee3ab97",
   "metadata": {},
   "source": [
    "### 2. Qual o total de vendas por data do pedido?"
   ]
  },
  {
   "cell_type": "code",
   "execution_count": null,
   "id": "3dcc00a4",
   "metadata": {},
   "outputs": [],
   "source": [
    "# Soma do total de vendas agrupado por 'data_pedido'\n",
    "dados_p2 = dados.groupby('Data_Pedido')['Valor_Venda'].sum()"
   ]
  },
  {
   "cell_type": "code",
   "execution_count": null,
   "id": "336955de",
   "metadata": {},
   "outputs": [],
   "source": [
    "# Visualizando as 5 primeiras linhas\n",
    "dados_p2.head()"
   ]
  },
  {
   "cell_type": "code",
   "execution_count": null,
   "id": "d43dff40",
   "metadata": {},
   "outputs": [],
   "source": [
    "# Gráfico de barras a partir do próprio DataFrame\n",
    "#dimensão da imagem\n",
    "#eixos e cor\n",
    "#título do gráfico\n",
    "#visualização do gráfico"
   ]
  },
  {
   "cell_type": "code",
   "execution_count": null,
   "id": "4b8f0890",
   "metadata": {},
   "outputs": [],
   "source": [
    "plt.figure(figsize=(20,6)) \n",
    "dados_p2.plot(x = 'Data_Pedido', y = 'Valor_Venda', color = 'green') \n",
    "plt.title('Total de Vendas por Data do Pedido')\n",
    "plt.show()"
   ]
  },
  {
   "cell_type": "markdown",
   "id": "b4bb25fb",
   "metadata": {},
   "source": [
    "### 3. Qual o total de vendas por estado"
   ]
  },
  {
   "cell_type": "code",
   "execution_count": null,
   "id": "c4c51e71",
   "metadata": {},
   "outputs": [],
   "source": [
    "# Soma das vendas agrupado por Estado\n",
    "dados_p3 = dados.groupby('Estado')['Valor_Venda'].sum().reset_index()"
   ]
  },
  {
   "cell_type": "markdown",
   "id": "111d8916",
   "metadata": {},
   "source": [
    "A função **reset_index()** no seu código é utilizada para transformar o índice (que é o 'Estado' no seu caso) de volta em uma coluna do DataFrame. Isso é necessário para que, ao criar um gráfico de barras com Seaborn, você possa referenciar essa coluna como a variável no eixo x. Se não usar reset_index(), o índice da série seria considerado como o eixo x, o que pode levar a resultados inesperados ou erros. Portanto, o uso de reset_index() é crucial para garantir a correta representação dos dados no gráfico."
   ]
  },
  {
   "cell_type": "code",
   "execution_count": null,
   "id": "c3927949",
   "metadata": {},
   "outputs": [],
   "source": [
    "# Visualização das 5 primeiras linhas \n",
    "dados_p3.head()"
   ]
  },
  {
   "cell_type": "code",
   "execution_count": null,
   "id": "9bd78630",
   "metadata": {},
   "outputs": [],
   "source": [
    "# Gráfico de barras com seaborn(barplot)\n",
    "\n",
    "plt.figure(figsize = (16,6))\n",
    "sns.barplot(data = dados_p3,\n",
    "           y = 'Valor_Venda',\n",
    "           x = 'Estado').set(title = 'Vendas Por Estado')\n",
    "plt.xticks(rotation = 80) #rotacionado para melhor visibilidade\n",
    "plt.show()"
   ]
  },
  {
   "cell_type": "markdown",
   "id": "a4464c78",
   "metadata": {},
   "source": [
    "### 4. Quais são as 10 cidades com maior total de vendas?"
   ]
  },
  {
   "cell_type": "code",
   "execution_count": null,
   "id": "f146b867",
   "metadata": {},
   "outputs": [],
   "source": [
    "# Soma do Valor de Venda agrupado por cidade\n",
    "# dados_p4 = dados.groupby('Cidade')['Valor_Venda'].sum()"
   ]
  },
  {
   "cell_type": "code",
   "execution_count": null,
   "id": "74751f8d",
   "metadata": {},
   "outputs": [],
   "source": [
    "# Transformando a 'série Cidade' em 'coluna cidade' novamente\n",
    "#.reset_index()"
   ]
  },
  {
   "cell_type": "code",
   "execution_count": null,
   "id": "7e9a0b45",
   "metadata": {},
   "outputs": [],
   "source": [
    "# Ordenado os valores da coluna 'valor_venda' em ordem decrescente de delimitando aos 10 primeiros\n",
    "#.sort_values(by = 'Valor_Venda', ascending = False).head(10)"
   ]
  },
  {
   "cell_type": "code",
   "execution_count": null,
   "id": "c74df35a",
   "metadata": {},
   "outputs": [],
   "source": [
    "dados_p4 = dados.groupby('Cidade')['Valor_Venda'].sum().reset_index().sort_values(by = 'Valor_Venda', ascending = False).head(10)"
   ]
  },
  {
   "cell_type": "code",
   "execution_count": null,
   "id": "f49779b4",
   "metadata": {},
   "outputs": [],
   "source": [
    "dados_p4"
   ]
  },
  {
   "cell_type": "code",
   "execution_count": null,
   "id": "13e79f17",
   "metadata": {},
   "outputs": [],
   "source": [
    "# Gráfico de barras com seaborn(barplot)\n",
    "\n",
    "plt.figure(figsize = (16,6))\n",
    "sns.set_palette('coolwarm') #especificar a paleta de cores da barra\n",
    "sns.barplot(data = dados_p4,\n",
    "           y = 'Valor_Venda',\n",
    "           x = 'Cidade').set(title = 'As 10 Cidades com Maior Valor de Venda')\n",
    "plt.xticks(rotation = 80) #rotacionado para melhor visibilidade\n",
    "plt.show()"
   ]
  },
  {
   "cell_type": "markdown",
   "id": "5d28bc02",
   "metadata": {},
   "source": [
    "### 5. Qual o segmento teve o maior total de vendas?"
   ]
  },
  {
   "cell_type": "code",
   "execution_count": null,
   "id": "6f9dc501",
   "metadata": {},
   "outputs": [],
   "source": [
    "dados_p5 = dados.groupby('Segmento')['Valor_Venda'].sum().reset_index().sort_values(by = 'Valor_Venda', ascending = False)"
   ]
  },
  {
   "cell_type": "code",
   "execution_count": null,
   "id": "da7756aa",
   "metadata": {},
   "outputs": [],
   "source": [
    "dados_p5"
   ]
  },
  {
   "cell_type": "code",
   "execution_count": null,
   "id": "3dba4ae5",
   "metadata": {},
   "outputs": [],
   "source": [
    "# função para converter os dados que estão em notação cientifica para valor absoluto\n",
    "\n",
    "def autopct_format(values):\n",
    "    def my_format(pct):\n",
    "        total = sum(values)\n",
    "        val = int(round(pct * total / 100.0))\n",
    "        return '$ {v:d}'.format(v=val)\n",
    "    return my_format"
   ]
  },
  {
   "cell_type": "code",
   "execution_count": null,
   "id": "f17d3636",
   "metadata": {},
   "outputs": [],
   "source": [
    "# Gráfico de pizza com matplotlib\n",
    "\n",
    "plt.figure(figsize = (16,6))\n",
    "plt.pie(dados_p5['Valor_Venda'],\n",
    "        labels = dados_p5['Segmento'],\n",
    "        autopct = autopct_format(dados_p5['Valor_Venda']),\n",
    "        startangle = 90)\n",
    "plt.title('As 10 Cidades com Maior Valor de Venda')\n",
    "plt.show()"
   ]
  },
  {
   "cell_type": "code",
   "execution_count": null,
   "id": "48ec14a1",
   "metadata": {},
   "outputs": [],
   "source": [
    "# Gráfico de barras com seaborn(barplot)\n",
    "\n",
    "plt.figure(figsize = (16,6))\n",
    "plt.pie(dados_p5['Valor_Venda'],\n",
    "        labels = dados_p5['Segmento'],\n",
    "        autopct = '%1.1f%%', #valor em porcentagem\n",
    "        startangle = 90)\n",
    "plt.title('As 10 Cidades com Maior Valor de Venda')\n",
    "plt.show()"
   ]
  },
  {
   "cell_type": "code",
   "execution_count": null,
   "id": "7ce1a748",
   "metadata": {},
   "outputs": [],
   "source": [
    "# Gráfico de disco com matplotlib\n",
    "\n",
    "plt.figure(figsize = (16,6))\n",
    "plt.pie(dados_p5['Valor_Venda'],\n",
    "        labels = dados_p5['Segmento'],\n",
    "        autopct = autopct_format(dados_p5['Valor_Venda']),\n",
    "        startangle = 90)\n",
    "\n",
    "centre_circle = plt.Circle((0,0), 0.82, fc = 'white')\n",
    "fig = plt.gcf()\n",
    "fig.gca().add_artist(centre_circle)\n",
    "\n",
    "plt.title('As 10 Cidades com Maior Valor de Venda')\n",
    "plt.show()"
   ]
  },
  {
   "cell_type": "markdown",
   "id": "1bf7553b",
   "metadata": {},
   "source": [
    "### 6. Qual o total de vendas por segmento e por ano?"
   ]
  },
  {
   "cell_type": "code",
   "execution_count": null,
   "id": "6352a791",
   "metadata": {},
   "outputs": [],
   "source": [
    "# Converção da coluna 'data_pedido' que está no tipo object para data com a função datetime()\n",
    "dados['Data_Pedido'] = pd.to_datetime(dados['Data_Pedido'], dayfirst = True)"
   ]
  },
  {
   "cell_type": "code",
   "execution_count": null,
   "id": "5f7c54d4",
   "metadata": {},
   "outputs": [],
   "source": [
    "dados.dtypes"
   ]
  },
  {
   "cell_type": "code",
   "execution_count": null,
   "id": "0869ad25",
   "metadata": {},
   "outputs": [],
   "source": [
    "# \"extrair\" o ano e armazenar em uma nova coluna - dt.year\n",
    "dados['Ano'] = dados['Data_Pedido'].dt.year"
   ]
  },
  {
   "cell_type": "code",
   "execution_count": null,
   "id": "78bab761",
   "metadata": {},
   "outputs": [],
   "source": [
    "# Verificando a nova coluna\n",
    "dados.head()"
   ]
  },
  {
   "cell_type": "code",
   "execution_count": null,
   "id": "96cfc828",
   "metadata": {},
   "outputs": [],
   "source": [
    "dados_p6 = dados.groupby(['Ano', 'Segmento'])['Valor_Venda'].sum()"
   ]
  },
  {
   "cell_type": "code",
   "execution_count": null,
   "id": "d870700e",
   "metadata": {},
   "outputs": [],
   "source": [
    "dados_p6"
   ]
  },
  {
   "cell_type": "markdown",
   "id": "63e57037",
   "metadata": {},
   "source": [
    "### 7. Os gestores da empresa estão considerando conceder diferentes faixas de descontos e gostariam de fazer uma simulação com base na regra abaixo:\n",
    "\n",
    "* Se o Valor_Venda for maior que 1000 recebe 15% de desconto.\n",
    "\n",
    "* Se o Valor_Venda for menor que 1000 recebe 10% de desconto.\n",
    "\n",
    "**Quantas vendas receberiam 15% de desconto?**"
   ]
  },
  {
   "cell_type": "code",
   "execution_count": null,
   "id": "e3ae3bcd",
   "metadata": {},
   "outputs": [],
   "source": [
    "# numpy c/ pandas para criar condicional\n",
    "# criar nova coluna para valor do desconto\n",
    "\n",
    "dados['Desconto'] = np.where(dados['Valor_Venda'] > 1000, 0.15, 0.10)"
   ]
  },
  {
   "cell_type": "code",
   "execution_count": null,
   "id": "4e9a94fe",
   "metadata": {},
   "outputs": [],
   "source": [
    "dados.head(15)"
   ]
  },
  {
   "cell_type": "code",
   "execution_count": null,
   "id": "3fe8d0b3",
   "metadata": {},
   "outputs": [],
   "source": [
    "dados['Desconto'].value_counts()"
   ]
  },
  {
   "cell_type": "markdown",
   "id": "6e962555",
   "metadata": {},
   "source": [
    "### 8. Considere que a empresa decida conceder o desconto de 15%, como apresentado na questão anterior. Qual seria a média do 'valor_venda' dessas vendas antes e depois do desconto?"
   ]
  },
  {
   "cell_type": "code",
   "execution_count": null,
   "id": "cad74fd0",
   "metadata": {},
   "outputs": [],
   "source": [
    "# Sendo o desconto de 15%, o 'valor_venda' passa a ser 85% do valor\n",
    "\n",
    "dados['Valor_Venda_Desconto'] = dados['Valor_Venda'] - (dados['Valor_Venda'] * dados['Desconto'])"
   ]
  },
  {
   "cell_type": "code",
   "execution_count": null,
   "id": "a2b6e943",
   "metadata": {},
   "outputs": [],
   "source": [
    "dados.head(15)"
   ]
  },
  {
   "cell_type": "code",
   "execution_count": null,
   "id": "2014bb8c",
   "metadata": {},
   "outputs": [],
   "source": [
    "# Localizar 'valor_venda' que receberiam 15% - antes do desconto\n",
    "dados_vendas_antes = dados.loc[dados['Desconto'] == 0.15, 'Valor_Venda']\n",
    "dados_media_antes = round(dados_vendas_antes.mean(), 2)\n",
    "dados_media_antes"
   ]
  },
  {
   "cell_type": "code",
   "execution_count": null,
   "id": "98b6e2af",
   "metadata": {},
   "outputs": [],
   "source": [
    "# Localizar 'valor_venda' que receberiam 15% - depois do desconto\n",
    "dados_vendas_depois = dados.loc[dados['Desconto'] == 0.15, 'Valor_Venda_Desconto']\n",
    "dados_media_depois = round(dados_vendas_depois.mean(), 2)\n",
    "dados_media_depois"
   ]
  },
  {
   "cell_type": "markdown",
   "id": "aaf18ccb",
   "metadata": {},
   "source": [
    "### 9. Qual o média de vendas por Segmento, Ano e Mês?"
   ]
  },
  {
   "cell_type": "code",
   "execution_count": null,
   "id": "29fd6fde",
   "metadata": {},
   "outputs": [],
   "source": [
    "# \"extrair\" o mês e armazenar em uma nova coluna - dt.year\n",
    "dados['Mes'] = dados['Data_Pedido'].dt.month"
   ]
  },
  {
   "cell_type": "code",
   "execution_count": null,
   "id": "0360bbf2",
   "metadata": {},
   "outputs": [],
   "source": [
    "dados.head()"
   ]
  },
  {
   "cell_type": "code",
   "execution_count": null,
   "id": "b5398126",
   "metadata": {},
   "outputs": [],
   "source": [
    "dados_p9 = dados.groupby(['Ano', 'Mes', 'Segmento'])['Valor_Venda'].mean()"
   ]
  },
  {
   "cell_type": "code",
   "execution_count": null,
   "id": "754bc9db",
   "metadata": {},
   "outputs": [],
   "source": [
    "dados_p9"
   ]
  },
  {
   "cell_type": "code",
   "execution_count": null,
   "id": "67dc8c0a",
   "metadata": {},
   "outputs": [],
   "source": [
    "# Vamos extrair os níveis da variaveis categóricas\n",
    "anos = dados_p9.index.get_level_values(0)\n",
    "meses = dados_p9.index.get_level_values(1)\n",
    "segmentos = dados_p9.index.get_level_values(2)"
   ]
  },
  {
   "cell_type": "code",
   "execution_count": null,
   "id": "d18715bf",
   "metadata": {},
   "outputs": [],
   "source": [
    "# Plot\n",
    "# relplot - grafico relacional\n",
    "plt.figure(figsize = (12, 6))\n",
    "sns.set()\n",
    "fig1 = sns.relplot(kind = 'line',\n",
    "                   data = dados_p9, \n",
    "                   y = dados_p9, \n",
    "                   x = meses,\n",
    "                   hue = segmentos, \n",
    "                   col = anos,\n",
    "                   col_wrap = 4)\n",
    "plt.show()"
   ]
  },
  {
   "cell_type": "markdown",
   "id": "331a9225",
   "metadata": {},
   "source": [
    "### 10. Qual o total de vendas por Categoria e SubCategoria, considerando somente as Top 12 SubCategorias? \n",
    "\n",
    "Demonstre tudo através de um único gráfico."
   ]
  },
  {
   "cell_type": "code",
   "execution_count": null,
   "id": "b0838e96",
   "metadata": {},
   "outputs": [],
   "source": [
    "dados_p10 = dados.groupby(['Categoria',\n",
    "                             'SubCategoria']).sum(numeric_only = True).sort_values('Valor_Venda',\n",
    "                                                                                   ascending = False).head(12)"
   ]
  },
  {
   "cell_type": "code",
   "execution_count": null,
   "id": "d15ec6f3",
   "metadata": {},
   "outputs": [],
   "source": [
    "dados_p10"
   ]
  },
  {
   "cell_type": "code",
   "execution_count": null,
   "id": "667bc4e4",
   "metadata": {},
   "outputs": [],
   "source": [
    "# Convertemos a coluna Valor_Venda em número inteiro e classificamos por categoria\n",
    "\n",
    "dados_p10 = dados_p10[['Valor_Venda']].astype(int).sort_values(by = 'Categoria').reset_index()"
   ]
  },
  {
   "cell_type": "code",
   "execution_count": null,
   "id": "dc7199f2",
   "metadata": {},
   "outputs": [],
   "source": [
    "# Dataframe com categorias e subcategorias\n",
    "dados_p10"
   ]
  },
  {
   "cell_type": "code",
   "execution_count": null,
   "id": "0dabecb1",
   "metadata": {},
   "outputs": [],
   "source": [
    "# Criamos outro dataframe somente com os totais por categoria\n",
    "dados_p10_cat = dados_p10.groupby('Categoria').sum(numeric_only = True).reset_index()"
   ]
  },
  {
   "cell_type": "code",
   "execution_count": null,
   "id": "82b5a369",
   "metadata": {},
   "outputs": [],
   "source": [
    "# Listas de cores para categorias\n",
    "cores_categorias = ['#5d00de',\n",
    "                    '#0ee84f',\n",
    "                    '#e80e27']"
   ]
  },
  {
   "cell_type": "code",
   "execution_count": null,
   "id": "b3768ea0",
   "metadata": {},
   "outputs": [],
   "source": [
    "# Listas de cores para subcategorias\n",
    "cores_subcategorias = ['#aa8cd4',\n",
    "                       '#aa8cd5',\n",
    "                       '#aa8cd6',\n",
    "                       '#aa8cd7',\n",
    "                       '#26c957',\n",
    "                       '#26c958',\n",
    "                       '#26c959',\n",
    "                       '#26c960',\n",
    "                       '#e65e65',\n",
    "                       '#e65e66',\n",
    "                       '#e65e67',\n",
    "                       '#e65e68']"
   ]
  },
  {
   "cell_type": "code",
   "execution_count": null,
   "id": "e928d74e",
   "metadata": {},
   "outputs": [],
   "source": [
    "# Plot\n",
    "\n",
    "# Tamanho da figura\n",
    "fig, ax = plt.subplots(figsize = (18,12))\n",
    "\n",
    "# Gráfico das categorias\n",
    "p1 = ax.pie(dados_p10_cat['Valor_Venda'], \n",
    "            radius = 1,\n",
    "            labels = dados_p10_cat['Categoria'],\n",
    "            wedgeprops = dict(edgecolor = 'white'), #divisão entre categorias\n",
    "            colors = cores_categorias) # definidas acima\n",
    "\n",
    "# Gráfico das subcategorias\n",
    "p2 = ax.pie(dados_p10['Valor_Venda'],\n",
    "            radius = 0.9,\n",
    "            labels = dados_p10['SubCategoria'],\n",
    "            autopct = autopct_format(dados_p10['Valor_Venda']), #formatação dos dados\n",
    "            colors = cores_subcategorias, #definidas acima\n",
    "            labeldistance = 0.7, \n",
    "            wedgeprops = dict(edgecolor = 'white'), #divisão entre as subcategorias\n",
    "            pctdistance = 0.53,\n",
    "            rotatelabels = True) #rotação dos rotulos\n",
    "\n",
    "# Limpa o centro do círculo\n",
    "centre_circle = plt.Circle((0, 0), 0.6, fc = 'white')\n",
    "\n",
    "# Labels e anotações\n",
    "fig = plt.gcf()\n",
    "fig.gca().add_artist(centre_circle)\n",
    "#plt.annotate(text = 'Total de Vendas: ' + '$ ' + str(int(sum(df_dsa_p10['Valor_Venda']))), xy = (-0.2, 0))\n",
    "plt.title('Total de Vendas Por Categoria e Top 12 SubCategorias')\n",
    "plt.show()"
   ]
  },
  {
   "cell_type": "code",
   "execution_count": null,
   "id": "9cde6d3f",
   "metadata": {},
   "outputs": [],
   "source": []
  }
 ],
 "metadata": {
  "kernelspec": {
   "display_name": "Python 3 (ipykernel)",
   "language": "python",
   "name": "python3"
  },
  "language_info": {
   "codemirror_mode": {
    "name": "ipython",
    "version": 3
   },
   "file_extension": ".py",
   "mimetype": "text/x-python",
   "name": "python",
   "nbconvert_exporter": "python",
   "pygments_lexer": "ipython3",
   "version": "3.11.5"
  }
 },
 "nbformat": 4,
 "nbformat_minor": 5
}
